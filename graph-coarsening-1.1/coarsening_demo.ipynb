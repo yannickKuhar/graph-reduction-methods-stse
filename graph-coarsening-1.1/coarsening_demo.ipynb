{
 "cells": [
  {
   "cell_type": "markdown",
   "metadata": {},
   "source": [
    "This is a demo of coarsening code from the preprint: [Graph reduction with spectral and cut guarantees](https://arxiv.org/abs/1808.10650). The final version of the paper will appear at JMLR.\n",
    "\n",
    "Depedencies: pygsp, matplotlib, numpy, scipy, networkx, sortedcontainers\n",
    "\n",
    "This work was kindly supported by the Swiss National Science Foundation (grant number PZ00P2 179981).\n",
    "\n",
    "15 March 2019\n",
    "\n",
    "[Andreas Loukas](https://andreasloukas.wordpress.com)\n",
    "\n",
    "Released under the MIT license "
   ]
  },
  {
   "cell_type": "code",
   "execution_count": 3,
   "metadata": {
    "ExecuteTime": {
     "end_time": "2024-07-08T11:40:58.281015921Z",
     "start_time": "2024-07-08T11:40:58.183099418Z"
    }
   },
   "outputs": [],
   "source": [
    "from libraries.coarsening_utils import *\n",
    "import libraries.graph_utils\n",
    "\n",
    "import numpy as np\n",
    "import scipy as sp\n",
    "\n",
    "import matplotlib\n",
    "import matplotlib.pylab as plt\n",
    "from mpl_toolkits.mplot3d import Axes3D\n",
    "\n",
    "import networkx as nx\n",
    "import pygsp as gsp\n",
    "from pygsp import graphs"
   ]
  },
  {
   "cell_type": "markdown",
   "metadata": {},
   "source": [
    "### Construct the graph ## \n"
   ]
  },
  {
   "cell_type": "code",
   "execution_count": 4,
   "outputs": [],
   "source": [
    "def read_graph(file):\n",
    "    G = nx.Graph()\n",
    "\n",
    "    with open(file, \"r\") as f:\n",
    "        for line in f.readlines():\n",
    "            if line.startswith(\"#\"):\n",
    "                continue\n",
    "            line = line.strip().split(\" \")\n",
    "            G.add_edge(int(line[0]), int(line[1]))\n",
    "\n",
    "    return G"
   ],
   "metadata": {
    "collapsed": false,
    "ExecuteTime": {
     "end_time": "2024-07-08T11:40:59.786862713Z",
     "start_time": "2024-07-08T11:40:59.777988255Z"
    }
   }
  },
  {
   "cell_type": "code",
   "execution_count": 5,
   "outputs": [],
   "source": [
    "G = read_graph(\"KnowledgeBase.edges\")"
   ],
   "metadata": {
    "collapsed": false,
    "ExecuteTime": {
     "end_time": "2024-07-08T11:41:00.639087209Z",
     "start_time": "2024-07-08T11:41:00.634514203Z"
    }
   }
  },
  {
   "cell_type": "code",
   "execution_count": 6,
   "metadata": {
    "ExecuteTime": {
     "end_time": "2024-07-08T11:41:01.632570793Z",
     "start_time": "2024-07-08T11:41:01.493348059Z"
    }
   },
   "outputs": [
    {
     "data": {
      "text/plain": "<Figure size 432x288 with 1 Axes>",
      "image/png": "[encoded data removed]"
     },
     "metadata": {
      "needs_background": "light"
     },
     "output_type": "display_data"
    }
   ],
   "source": [
    "G = graphs.Graph(nx.adjacency_matrix(G))\n",
    "    \n",
    "N = G.N\n",
    "L = G.L.toarray()\n",
    "S = get_S(G).T\n",
    "\n",
    "plt.spy(G.W, markersize=0.2);"
   ]
  },
  {
   "cell_type": "markdown",
   "metadata": {},
   "source": [
    "### Do some coarsening\n",
    "\n",
    "* Possible methods supported are: 'variation_edges', 'variation_neighborhood', 'algebraic_JC', 'heavy_edge', 'affinity_GS'\n",
    "* $r = 1 - n/N$ is the dimensionality reduction ratio\n",
    "* $k$ is the size of the subspace we are interested in\n",
    "* $k_{max}$ should be set to be larger or equal to $k$. It allows us to measure the quality of coarsening over subspaces larger than $k$."
   ]
  },
  {
   "cell_type": "code",
   "execution_count": 12,
   "metadata": {
    "ExecuteTime": {
     "end_time": "2024-07-08T11:44:17.496494339Z",
     "start_time": "2024-07-08T11:44:17.454309627Z"
    }
   },
   "outputs": [
    {
     "name": "stdout",
     "output_type": "stream",
     "text": [
      "1 0\n",
      "2 0\n",
      "3 0\n",
      "4 0\n",
      "5 0\n",
      "5 4\n",
      "6 5\n",
      "7 5\n",
      "7 6\n",
      "8 5\n",
      "9 5\n",
      "9 6\n",
      "9 8\n",
      "variation_neighborhood | r: 0.6, nedges: 13, levels: 1, epsilon: 0.2326\n"
     ]
    }
   ],
   "source": [
    "method = 'variation_neighborhood'  \n",
    "\n",
    "# Parameters\n",
    "r    = 0.6 # the extend of dimensionality reduction (r=0 means no reduction)\n",
    "k    = 5  \n",
    "kmax = int(3*k)\n",
    "        \n",
    "C, Gc, Call, Gall = coarsen(G, K=k, r=r, method=method) \n",
    "metrics = coarsening_quality(G, C, kmax=kmax)\n",
    "n = Gc.N\n",
    "\n",
    "v_in, v_out, weights = Gc.get_edge_list()\n",
    "\n",
    "for u, v in zip(v_in, v_out):\n",
    "    print(u, v)\n",
    "\n",
    "print('{:16} | r: {:1.4}, nedges: {}, levels: {}, epsilon: {:1.4}'.format(method, metrics['r'], metrics['m'], len(Call), metrics['error_subspace'][k-1]))"
   ]
  },
  {
   "cell_type": "code",
   "execution_count": null,
   "metadata": {},
   "outputs": [],
   "source": []
  }
 ],
 "metadata": {
  "kernelspec": {
   "display_name": "Python 3",
   "language": "python",
   "name": "python3"
  },
  "language_info": {
   "codemirror_mode": {
    "name": "ipython",
    "version": 3
   },
   "file_extension": ".py",
   "mimetype": "text/x-python",
   "name": "python",
   "nbconvert_exporter": "python",
   "pygments_lexer": "ipython3",
   "version": "3.6.0"
  }
 },
 "nbformat": 4,
 "nbformat_minor": 2
}
